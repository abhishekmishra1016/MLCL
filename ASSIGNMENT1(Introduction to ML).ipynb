{
 "cells": [
  {
   "cell_type": "code",
   "execution_count": 1,
   "id": "b553fd3c",
   "metadata": {
    "tags": []
   },
   "outputs": [],
   "source": [
    "import numpy as np"
   ]
  },
  {
   "cell_type": "code",
   "execution_count": 2,
   "id": "37fe3bcd-b790-443e-8edf-cbdebd12b4cc",
   "metadata": {
    "tags": []
   },
   "outputs": [],
   "source": [
    "a = np.array([1,2,3,4,5])   #array "
   ]
  },
  {
   "cell_type": "code",
   "execution_count": 3,
   "id": "84c3f7fe-84c6-4914-be11-56c4b371457b",
   "metadata": {},
   "outputs": [
    {
     "data": {
      "text/plain": [
       "array([1, 2, 3, 4, 5])"
      ]
     },
     "execution_count": 3,
     "metadata": {},
     "output_type": "execute_result"
    }
   ],
   "source": [
    "a"
   ]
  },
  {
   "cell_type": "code",
   "execution_count": 4,
   "id": "5950c939-d6bc-4e54-b04a-46673b2bf11c",
   "metadata": {},
   "outputs": [],
   "source": [
    "b = np.array([(1.4,2,3.3), (23.4,34,12)], dtype = float)"
   ]
  },
  {
   "cell_type": "code",
   "execution_count": 5,
   "id": "dcfddccb-3aa1-4f6d-8426-74f63d25a7a2",
   "metadata": {},
   "outputs": [
    {
     "data": {
      "text/plain": [
       "array([[ 1.4,  2. ,  3.3],\n",
       "       [23.4, 34. , 12. ]])"
      ]
     },
     "execution_count": 5,
     "metadata": {},
     "output_type": "execute_result"
    }
   ],
   "source": [
    "b"
   ]
  },
  {
   "cell_type": "code",
   "execution_count": 6,
   "id": "8b7b0f03-aad8-4ecc-bef5-11ea787ab194",
   "metadata": {},
   "outputs": [],
   "source": [
    "c = np.array([[(1,2,3), (23,34,12)],[(1,4,2), (2,33,12)]],dtype = float)"
   ]
  },
  {
   "cell_type": "code",
   "execution_count": 7,
   "id": "df539419-fd4e-4666-8426-846f26705986",
   "metadata": {},
   "outputs": [
    {
     "data": {
      "text/plain": [
       "array([[[ 1.,  2.,  3.],\n",
       "        [23., 34., 12.]],\n",
       "\n",
       "       [[ 1.,  4.,  2.],\n",
       "        [ 2., 33., 12.]]])"
      ]
     },
     "execution_count": 7,
     "metadata": {},
     "output_type": "execute_result"
    }
   ],
   "source": [
    "c"
   ]
  },
  {
   "cell_type": "code",
   "execution_count": 8,
   "id": "982fd0c0-f79f-4e0c-b392-596aca7bc469",
   "metadata": {},
   "outputs": [
    {
     "data": {
      "text/plain": [
       "3"
      ]
     },
     "execution_count": 8,
     "metadata": {},
     "output_type": "execute_result"
    }
   ],
   "source": [
    "c.ndim  # shows number of dimension (ndim)"
   ]
  },
  {
   "cell_type": "code",
   "execution_count": 9,
   "id": "01ffd47e-5df3-406b-9265-84810a602794",
   "metadata": {},
   "outputs": [],
   "source": [
    "z = np.zeros([3,4],dtype = int)  # to create 0's array"
   ]
  },
  {
   "cell_type": "code",
   "execution_count": 10,
   "id": "77ff26aa-94a9-4d8c-bf96-b1c7c191d461",
   "metadata": {},
   "outputs": [
    {
     "data": {
      "text/plain": [
       "array([[0, 0, 0, 0],\n",
       "       [0, 0, 0, 0],\n",
       "       [0, 0, 0, 0]])"
      ]
     },
     "execution_count": 10,
     "metadata": {},
     "output_type": "execute_result"
    }
   ],
   "source": [
    "z"
   ]
  },
  {
   "cell_type": "code",
   "execution_count": 11,
   "id": "c866d443-78c1-4640-95f3-43f24b7f6e09",
   "metadata": {},
   "outputs": [],
   "source": [
    "x = np.ones((4,3,2))  "
   ]
  },
  {
   "cell_type": "code",
   "execution_count": 12,
   "id": "652613b8-1913-488e-b5ba-4bac226e634c",
   "metadata": {},
   "outputs": [
    {
     "data": {
      "text/plain": [
       "array([[[1., 1.],\n",
       "        [1., 1.],\n",
       "        [1., 1.]],\n",
       "\n",
       "       [[1., 1.],\n",
       "        [1., 1.],\n",
       "        [1., 1.]],\n",
       "\n",
       "       [[1., 1.],\n",
       "        [1., 1.],\n",
       "        [1., 1.]],\n",
       "\n",
       "       [[1., 1.],\n",
       "        [1., 1.],\n",
       "        [1., 1.]]])"
      ]
     },
     "execution_count": 12,
     "metadata": {},
     "output_type": "execute_result"
    }
   ],
   "source": [
    "x"
   ]
  },
  {
   "cell_type": "code",
   "execution_count": 13,
   "id": "33e70b03-ca7f-4e7e-af94-c4c3fee1be9d",
   "metadata": {},
   "outputs": [
    {
     "data": {
      "text/plain": [
       "3"
      ]
     },
     "execution_count": 13,
     "metadata": {},
     "output_type": "execute_result"
    }
   ],
   "source": [
    "x.ndim"
   ]
  },
  {
   "cell_type": "code",
   "execution_count": 14,
   "id": "dacf27d2-174e-46dc-8c1b-29a4f615a429",
   "metadata": {},
   "outputs": [],
   "source": [
    "x1 = np.ones((4,3,))  "
   ]
  },
  {
   "cell_type": "code",
   "execution_count": 15,
   "id": "8696b686-4caa-4f5e-92c9-087813869f2b",
   "metadata": {},
   "outputs": [
    {
     "data": {
      "text/plain": [
       "array([[1., 1., 1.],\n",
       "       [1., 1., 1.],\n",
       "       [1., 1., 1.],\n",
       "       [1., 1., 1.]])"
      ]
     },
     "execution_count": 15,
     "metadata": {},
     "output_type": "execute_result"
    }
   ],
   "source": [
    "x1"
   ]
  },
  {
   "cell_type": "code",
   "execution_count": 16,
   "id": "a52d256a-fcba-43f0-8b26-2114211f773a",
   "metadata": {},
   "outputs": [
    {
     "data": {
      "text/plain": [
       "2"
      ]
     },
     "execution_count": 16,
     "metadata": {},
     "output_type": "execute_result"
    }
   ],
   "source": [
    "x1.ndim"
   ]
  },
  {
   "cell_type": "code",
   "execution_count": 17,
   "id": "20a2c469-8c21-4499-b4fa-81b5f4e2a53e",
   "metadata": {},
   "outputs": [],
   "source": [
    " d = np.arange(10,23,7,)"
   ]
  },
  {
   "cell_type": "code",
   "execution_count": 18,
   "id": "8ecc3b08-ff41-4c60-af20-4e5870bc1f86",
   "metadata": {},
   "outputs": [
    {
     "data": {
      "text/plain": [
       "array([10, 17])"
      ]
     },
     "execution_count": 18,
     "metadata": {},
     "output_type": "execute_result"
    }
   ],
   "source": [
    "d"
   ]
  },
  {
   "cell_type": "code",
   "execution_count": 19,
   "id": "6371a1b5-7965-4ccb-a627-5c67cf8ed98b",
   "metadata": {},
   "outputs": [],
   "source": [
    "lp = np.linspace(0,2,9)"
   ]
  },
  {
   "cell_type": "code",
   "execution_count": 20,
   "id": "455a8621-812b-49d1-9f33-184011b9f636",
   "metadata": {},
   "outputs": [
    {
     "data": {
      "text/plain": [
       "array([0.  , 0.25, 0.5 , 0.75, 1.  , 1.25, 1.5 , 1.75, 2.  ])"
      ]
     },
     "execution_count": 20,
     "metadata": {},
     "output_type": "execute_result"
    }
   ],
   "source": [
    "lp"
   ]
  },
  {
   "cell_type": "code",
   "execution_count": 21,
   "id": "7fb07f6c-4680-49cf-88da-024b1d7ccdc5",
   "metadata": {},
   "outputs": [],
   "source": [
    "f = np.eye(2)"
   ]
  },
  {
   "cell_type": "code",
   "execution_count": 22,
   "id": "17d30ccf-a7d3-4821-a7db-aba2b4ede7be",
   "metadata": {},
   "outputs": [
    {
     "data": {
      "text/plain": [
       "array([[1., 0.],\n",
       "       [0., 1.]])"
      ]
     },
     "execution_count": 22,
     "metadata": {},
     "output_type": "execute_result"
    }
   ],
   "source": [
    "f"
   ]
  },
  {
   "cell_type": "code",
   "execution_count": 23,
   "id": "ca61e89d-883a-4a2f-996c-331bb3da9932",
   "metadata": {},
   "outputs": [],
   "source": [
    "f1 = np.eye(3)"
   ]
  },
  {
   "cell_type": "code",
   "execution_count": 24,
   "id": "50c217d5-9378-41f6-92df-26a744a267b0",
   "metadata": {},
   "outputs": [
    {
     "data": {
      "text/plain": [
       "array([[1., 0., 0.],\n",
       "       [0., 1., 0.],\n",
       "       [0., 0., 1.]])"
      ]
     },
     "execution_count": 24,
     "metadata": {},
     "output_type": "execute_result"
    }
   ],
   "source": [
    "f1"
   ]
  },
  {
   "cell_type": "code",
   "execution_count": 25,
   "id": "de22f439-5d04-4532-96af-8d7220a4a8c3",
   "metadata": {},
   "outputs": [
    {
     "data": {
      "text/plain": [
       "array([[ 1.4,  2. ],\n",
       "       [ 3.3, 23.4],\n",
       "       [34. , 12. ]])"
      ]
     },
     "execution_count": 25,
     "metadata": {},
     "output_type": "execute_result"
    }
   ],
   "source": [
    "e = np.empty((3,2))  #random variables #\n",
    "e"
   ]
  },
  {
   "cell_type": "code",
   "execution_count": 26,
   "id": "6b22f4ba-c480-4575-a420-215cd2fa9b99",
   "metadata": {},
   "outputs": [
    {
     "data": {
      "text/plain": [
       "array([[0.81972177, 0.50484464],\n",
       "       [0.51327842, 0.12119207]])"
      ]
     },
     "execution_count": 26,
     "metadata": {},
     "output_type": "execute_result"
    }
   ],
   "source": [
    "r = np.random.random([2,2])\n",
    "r"
   ]
  },
  {
   "cell_type": "code",
   "execution_count": 27,
   "id": "74d451b8-3546-448e-bdd9-c250202dec16",
   "metadata": {},
   "outputs": [
    {
     "data": {
      "text/plain": [
       "(2,)"
      ]
     },
     "execution_count": 27,
     "metadata": {},
     "output_type": "execute_result"
    }
   ],
   "source": [
    "d.shape\n",
    "\n"
   ]
  },
  {
   "cell_type": "code",
   "execution_count": 28,
   "id": "b56fcefe-6b9c-47d0-9d55-a57b441e3368",
   "metadata": {},
   "outputs": [
    {
     "data": {
      "text/plain": [
       "2"
      ]
     },
     "execution_count": 28,
     "metadata": {},
     "output_type": "execute_result"
    }
   ],
   "source": [
    "d.size"
   ]
  },
  {
   "cell_type": "code",
   "execution_count": 29,
   "id": "78368fb9-0de8-44f3-9c46-0d3665b39105",
   "metadata": {},
   "outputs": [
    {
     "data": {
      "text/plain": [
       "2"
      ]
     },
     "execution_count": 29,
     "metadata": {},
     "output_type": "execute_result"
    }
   ],
   "source": [
    "len(d)"
   ]
  },
  {
   "cell_type": "code",
   "execution_count": 30,
   "id": "b9689a84-a18e-4e97-b608-561fc7e88842",
   "metadata": {},
   "outputs": [
    {
     "data": {
      "text/plain": [
       "dtype('int32')"
      ]
     },
     "execution_count": 30,
     "metadata": {},
     "output_type": "execute_result"
    }
   ],
   "source": [
    "d.dtype"
   ]
  },
  {
   "cell_type": "code",
   "execution_count": 31,
   "id": "ae9757b8-f8b2-4a68-8477-ea359bc4de89",
   "metadata": {},
   "outputs": [
    {
     "data": {
      "text/plain": [
       "dtype('float64')"
      ]
     },
     "execution_count": 31,
     "metadata": {},
     "output_type": "execute_result"
    }
   ],
   "source": [
    "e.dtype"
   ]
  },
  {
   "cell_type": "code",
   "execution_count": 32,
   "id": "9d5d273c-bac7-48ae-bc78-d14580c6a328",
   "metadata": {},
   "outputs": [
    {
     "data": {
      "text/plain": [
       "'float64'"
      ]
     },
     "execution_count": 32,
     "metadata": {},
     "output_type": "execute_result"
    }
   ],
   "source": [
    "e.dtype.name"
   ]
  },
  {
   "cell_type": "code",
   "execution_count": 33,
   "id": "e136efd2-8af7-441e-9b13-25afc30142e1",
   "metadata": {},
   "outputs": [],
   "source": [
    "e1 = e.astype(int)  #e1 is to store the new data type of 'e', where e was previously float"
   ]
  },
  {
   "cell_type": "code",
   "execution_count": 34,
   "id": "b7704f47-7179-42f4-a2e3-496c1b17b093",
   "metadata": {},
   "outputs": [
    {
     "data": {
      "text/plain": [
       "'int32'"
      ]
     },
     "execution_count": 34,
     "metadata": {},
     "output_type": "execute_result"
    }
   ],
   "source": [
    "e1.dtype.name"
   ]
  },
  {
   "cell_type": "code",
   "execution_count": 35,
   "id": "69244433-6cdc-4570-a75c-12a5dba0cb0d",
   "metadata": {},
   "outputs": [
    {
     "data": {
      "text/plain": [
       "27"
      ]
     },
     "execution_count": 35,
     "metadata": {},
     "output_type": "execute_result"
    }
   ],
   "source": [
    "np.sum(d)"
   ]
  },
  {
   "cell_type": "code",
   "execution_count": 36,
   "id": "5b20eb81-f8ae-41f3-9e6c-7355f24a57d1",
   "metadata": {},
   "outputs": [
    {
     "data": {
      "text/plain": [
       "10"
      ]
     },
     "execution_count": 36,
     "metadata": {},
     "output_type": "execute_result"
    }
   ],
   "source": [
    "np.min(d)"
   ]
  },
  {
   "cell_type": "code",
   "execution_count": 37,
   "id": "6d98451b-05f9-4359-835e-00c03328da3a",
   "metadata": {},
   "outputs": [
    {
     "data": {
      "text/plain": [
       "17"
      ]
     },
     "execution_count": 37,
     "metadata": {},
     "output_type": "execute_result"
    }
   ],
   "source": [
    "np.max(d)"
   ]
  },
  {
   "cell_type": "code",
   "execution_count": 38,
   "id": "f9f4651c-c80f-4a71-ad4a-f7219dae9a40",
   "metadata": {},
   "outputs": [
    {
     "data": {
      "text/plain": [
       "array([[ 1.4,  2. ],\n",
       "       [ 3.3, 23.4],\n",
       "       [34. , 12. ]])"
      ]
     },
     "execution_count": 38,
     "metadata": {},
     "output_type": "execute_result"
    }
   ],
   "source": [
    "e"
   ]
  },
  {
   "cell_type": "code",
   "execution_count": 39,
   "id": "a8876df7-ccc0-4824-8256-ccdd8520799d",
   "metadata": {},
   "outputs": [
    {
     "data": {
      "text/plain": [
       "array([34. , 23.4])"
      ]
     },
     "execution_count": 39,
     "metadata": {},
     "output_type": "execute_result"
    }
   ],
   "source": [
    "np.max(e, axis = 0)  # column wise max value of each column"
   ]
  },
  {
   "cell_type": "code",
   "execution_count": 40,
   "id": "0cb07d59-142d-45fa-8f7a-4ab848e51a9b",
   "metadata": {},
   "outputs": [
    {
     "data": {
      "text/plain": [
       "array([ 2. , 23.4, 34. ])"
      ]
     },
     "execution_count": 40,
     "metadata": {},
     "output_type": "execute_result"
    }
   ],
   "source": [
    "np.max(e, axis = 1) # Row wise"
   ]
  },
  {
   "cell_type": "code",
   "execution_count": 41,
   "id": "c5fa6871-3f0c-4985-916b-82d7f7dfbb08",
   "metadata": {},
   "outputs": [
    {
     "data": {
      "text/plain": [
       "12.683333333333332"
      ]
     },
     "execution_count": 41,
     "metadata": {},
     "output_type": "execute_result"
    }
   ],
   "source": [
    "np.mean(e)"
   ]
  },
  {
   "cell_type": "code",
   "execution_count": 42,
   "id": "7f8b9403-1598-4216-84c0-0ad45a28dd94",
   "metadata": {},
   "outputs": [
    {
     "data": {
      "text/plain": [
       "7.65"
      ]
     },
     "execution_count": 42,
     "metadata": {},
     "output_type": "execute_result"
    }
   ],
   "source": [
    "np.median(e)"
   ]
  },
  {
   "cell_type": "code",
   "execution_count": 43,
   "id": "4c9cd6fb-c436-4913-bdc6-1d9f59f11612",
   "metadata": {},
   "outputs": [
    {
     "data": {
      "text/plain": [
       "12.24206091945125"
      ]
     },
     "execution_count": 43,
     "metadata": {},
     "output_type": "execute_result"
    }
   ],
   "source": [
    "np.std(e)"
   ]
  },
  {
   "cell_type": "code",
   "execution_count": 44,
   "id": "0dd179b1-ea38-4bc7-80b1-4be43b705fde",
   "metadata": {},
   "outputs": [
    {
     "data": {
      "text/plain": [
       "array([[ 1.4,  2. ,  3.3],\n",
       "       [23.4, 34. , 12. ]])"
      ]
     },
     "execution_count": 44,
     "metadata": {},
     "output_type": "execute_result"
    }
   ],
   "source": [
    "b"
   ]
  },
  {
   "cell_type": "code",
   "execution_count": 45,
   "id": "0147fd83-9307-44cd-80b8-f50a01b79819",
   "metadata": {},
   "outputs": [
    {
     "data": {
      "text/plain": [
       "array([[ 1.4,  3.4,  6.7],\n",
       "       [23.4, 57.4, 69.4]])"
      ]
     },
     "execution_count": 45,
     "metadata": {},
     "output_type": "execute_result"
    }
   ],
   "source": [
    "\n",
    "b.cumsum(axis=1)"
   ]
  },
  {
   "cell_type": "code",
   "execution_count": 46,
   "id": "74765147-3ca8-4e98-8f3a-ffb538b6d3eb",
   "metadata": {},
   "outputs": [
    {
     "data": {
      "text/plain": [
       "3.0"
      ]
     },
     "execution_count": 46,
     "metadata": {},
     "output_type": "execute_result"
    }
   ],
   "source": [
    "np.mean(a)"
   ]
  },
  {
   "cell_type": "code",
   "execution_count": 47,
   "id": "1b72e47d-e8b7-46d5-aee0-810d75227eb0",
   "metadata": {},
   "outputs": [
    {
     "data": {
      "text/plain": [
       "3.0"
      ]
     },
     "execution_count": 47,
     "metadata": {},
     "output_type": "execute_result"
    }
   ],
   "source": [
    "a.mean()"
   ]
  },
  {
   "cell_type": "code",
   "execution_count": 48,
   "id": "d3469dc5-3b04-4d1a-b0c7-4dd76fde1923",
   "metadata": {},
   "outputs": [
    {
     "data": {
      "text/plain": [
       "array([[ 1.        , -0.68468735],\n",
       "       [-0.68468735,  1.        ]])"
      ]
     },
     "execution_count": 48,
     "metadata": {},
     "output_type": "execute_result"
    }
   ],
   "source": [
    "np.corrcoef(b)"
   ]
  },
  {
   "cell_type": "code",
   "execution_count": 49,
   "id": "72923f9e-2cb8-454e-9e2f-da593047f546",
   "metadata": {},
   "outputs": [],
   "source": [
    "e.sort(axis = 0)"
   ]
  },
  {
   "cell_type": "code",
   "execution_count": 50,
   "id": "7a5794c7-1994-40d3-9508-1fefc7ca1c7a",
   "metadata": {},
   "outputs": [
    {
     "data": {
      "text/plain": [
       "array([[ 1.4,  2. ],\n",
       "       [ 3.3, 12. ],\n",
       "       [34. , 23.4]])"
      ]
     },
     "execution_count": 50,
     "metadata": {},
     "output_type": "execute_result"
    }
   ],
   "source": [
    "e"
   ]
  },
  {
   "cell_type": "code",
   "execution_count": 51,
   "id": "d2df0b37-25aa-46c5-aa2d-e8fe00751bf7",
   "metadata": {},
   "outputs": [
    {
     "data": {
      "text/plain": [
       "array([[ 1.4,  2. ,  3.3],\n",
       "       [23.4, 34. , 12. ]])"
      ]
     },
     "execution_count": 51,
     "metadata": {},
     "output_type": "execute_result"
    }
   ],
   "source": [
    "np.sort(b, axis = 0)"
   ]
  },
  {
   "cell_type": "code",
   "execution_count": 52,
   "id": "8c1c5b42-64b7-4704-998f-dfebe261e364",
   "metadata": {},
   "outputs": [
    {
     "data": {
      "text/plain": [
       "array([1, 2, 3, 4, 5])"
      ]
     },
     "execution_count": 52,
     "metadata": {},
     "output_type": "execute_result"
    }
   ],
   "source": [
    "a"
   ]
  },
  {
   "cell_type": "code",
   "execution_count": 53,
   "id": "1f702b26-2141-48a3-93fa-89044427a019",
   "metadata": {},
   "outputs": [
    {
     "data": {
      "text/plain": [
       "array([1, 2])"
      ]
     },
     "execution_count": 53,
     "metadata": {},
     "output_type": "execute_result"
    }
   ],
   "source": [
    "a[0:2]"
   ]
  },
  {
   "cell_type": "code",
   "execution_count": 54,
   "id": "f7041576-8b66-4022-bd4c-4d29fab34260",
   "metadata": {},
   "outputs": [
    {
     "data": {
      "text/plain": [
       "array([[ 1.4,  2. ,  3.3],\n",
       "       [23.4, 34. , 12. ]])"
      ]
     },
     "execution_count": 54,
     "metadata": {},
     "output_type": "execute_result"
    }
   ],
   "source": [
    "b"
   ]
  },
  {
   "cell_type": "code",
   "execution_count": 55,
   "id": "e0df8b4f-3b92-4e3c-b9b1-9a8eecaa8bcb",
   "metadata": {},
   "outputs": [
    {
     "data": {
      "text/plain": [
       "array([2.])"
      ]
     },
     "execution_count": 55,
     "metadata": {},
     "output_type": "execute_result"
    }
   ],
   "source": [
    "b[0:1,1]"
   ]
  },
  {
   "cell_type": "code",
   "execution_count": 56,
   "id": "51332d73-f7e0-4889-99fe-9877089b6dd0",
   "metadata": {},
   "outputs": [
    {
     "data": {
      "text/plain": [
       "array([[1.4, 2. , 3.3]])"
      ]
     },
     "execution_count": 56,
     "metadata": {},
     "output_type": "execute_result"
    }
   ],
   "source": [
    "b[:1]"
   ]
  },
  {
   "cell_type": "code",
   "execution_count": 57,
   "id": "59b50282-ba12-4f24-a04c-897a69b49f82",
   "metadata": {},
   "outputs": [],
   "source": [
    "b1 = np.transpose(b)"
   ]
  },
  {
   "cell_type": "code",
   "execution_count": 58,
   "id": "bf6163f4-dae1-4193-bc4d-3bf2745d5231",
   "metadata": {},
   "outputs": [
    {
     "data": {
      "text/plain": [
       "array([[ 1.4, 23.4],\n",
       "       [ 2. , 34. ],\n",
       "       [ 3.3, 12. ]])"
      ]
     },
     "execution_count": 58,
     "metadata": {},
     "output_type": "execute_result"
    }
   ],
   "source": [
    "b1"
   ]
  },
  {
   "cell_type": "code",
   "execution_count": 59,
   "id": "2eda232b-a7a1-478e-972d-f56bc6822d56",
   "metadata": {},
   "outputs": [
    {
     "data": {
      "text/plain": [
       "array([[[ 1.,  2.,  3.],\n",
       "        [23., 34., 12.]],\n",
       "\n",
       "       [[ 1.,  4.,  2.],\n",
       "        [ 2., 33., 12.]]])"
      ]
     },
     "execution_count": 59,
     "metadata": {},
     "output_type": "execute_result"
    }
   ],
   "source": [
    "c"
   ]
  },
  {
   "cell_type": "code",
   "execution_count": 60,
   "id": "0fcb2cc1-8b7d-4e45-b36a-9e19eb74e2e7",
   "metadata": {},
   "outputs": [],
   "source": [
    "c1 = c.ravel()"
   ]
  },
  {
   "cell_type": "code",
   "execution_count": 61,
   "id": "2ad52db0-0d18-47ac-93f9-e42a0257c4e6",
   "metadata": {},
   "outputs": [
    {
     "data": {
      "text/plain": [
       "array([ 1.,  2.,  3., 23., 34., 12.,  1.,  4.,  2.,  2., 33., 12.])"
      ]
     },
     "execution_count": 61,
     "metadata": {},
     "output_type": "execute_result"
    }
   ],
   "source": [
    "c1"
   ]
  },
  {
   "cell_type": "code",
   "execution_count": 62,
   "id": "eadde2a3-93d2-4b78-bb38-24d1467816ab",
   "metadata": {},
   "outputs": [
    {
     "data": {
      "text/plain": [
       "(2, 3)"
      ]
     },
     "execution_count": 62,
     "metadata": {},
     "output_type": "execute_result"
    }
   ],
   "source": [
    "b.shape"
   ]
  },
  {
   "cell_type": "code",
   "execution_count": 63,
   "id": "b9daf418-583c-4df5-8f0c-2fcd7ea71a78",
   "metadata": {},
   "outputs": [
    {
     "data": {
      "text/plain": [
       "array([[ 1.4,  2. ,  3.3],\n",
       "       [23.4, 34. , 12. ]])"
      ]
     },
     "execution_count": 63,
     "metadata": {},
     "output_type": "execute_result"
    }
   ],
   "source": [
    "b"
   ]
  },
  {
   "cell_type": "code",
   "execution_count": 64,
   "id": "d9755ac7-c9c7-4a34-a0dc-54b38fa1663b",
   "metadata": {},
   "outputs": [
    {
     "data": {
      "text/plain": [
       "array([[ 1.4,  2. ],\n",
       "       [ 3.3, 23.4],\n",
       "       [34. , 12. ]])"
      ]
     },
     "execution_count": 64,
     "metadata": {},
     "output_type": "execute_result"
    }
   ],
   "source": [
    "b.reshape(3,2)"
   ]
  },
  {
   "cell_type": "code",
   "execution_count": 65,
   "id": "47dde8e0-a43e-4383-b92d-5c8a21a1fd2d",
   "metadata": {},
   "outputs": [
    {
     "data": {
      "text/plain": [
       "array([[ 1.4],\n",
       "       [ 2. ],\n",
       "       [ 3.3],\n",
       "       [23.4],\n",
       "       [34. ],\n",
       "       [12. ]])"
      ]
     },
     "execution_count": 65,
     "metadata": {},
     "output_type": "execute_result"
    }
   ],
   "source": [
    "b.reshape(6,1)"
   ]
  },
  {
   "cell_type": "code",
   "execution_count": 66,
   "id": "e1d01957-04af-4442-be41-d009a49ee989",
   "metadata": {},
   "outputs": [],
   "source": [
    "a2 = (1,2,3)"
   ]
  },
  {
   "cell_type": "code",
   "execution_count": 67,
   "id": "17e3e4f3",
   "metadata": {},
   "outputs": [
    {
     "name": "stdout",
     "output_type": "stream",
     "text": [
      "(1, 2, 3)\n",
      "[[ 1.4  2.   3.3]\n",
      " [23.4 34.  12. ]]\n"
     ]
    }
   ],
   "source": [
    "print(a2)\n",
    "print(b)"
   ]
  },
  {
   "cell_type": "code",
   "execution_count": 68,
   "id": "2b72344e-34ec-4a27-b5a4-20990686f111",
   "metadata": {},
   "outputs": [],
   "source": [
    "combine = np.vstack((a2,b))"
   ]
  },
  {
   "cell_type": "code",
   "execution_count": 69,
   "id": "c9aff710-0c9a-4be9-b133-fc1410ff0f2e",
   "metadata": {},
   "outputs": [
    {
     "data": {
      "text/plain": [
       "array([[ 1. ,  2. ,  3. ],\n",
       "       [ 1.4,  2. ,  3.3],\n",
       "       [23.4, 34. , 12. ]])"
      ]
     },
     "execution_count": 69,
     "metadata": {},
     "output_type": "execute_result"
    }
   ],
   "source": [
    "combine"
   ]
  },
  {
   "cell_type": "code",
   "execution_count": 70,
   "id": "1735e0e6-c908-4504-951b-c0ff1b4c7f7e",
   "metadata": {},
   "outputs": [],
   "source": [
    "# sklearn\n",
    "from sklearn import preprocessing,datasets"
   ]
  },
  {
   "cell_type": "code",
   "execution_count": 71,
   "id": "79f93e96",
   "metadata": {},
   "outputs": [],
   "source": [
    "from sklearn.model_selection import train_test_split"
   ]
  },
  {
   "cell_type": "code",
   "execution_count": 72,
   "id": "2201e192",
   "metadata": {},
   "outputs": [],
   "source": [
    "from sklearn.metrics import accuracy_score, confusion_matrix"
   ]
  },
  {
   "cell_type": "code",
   "execution_count": 73,
   "id": "8c020c03",
   "metadata": {},
   "outputs": [],
   "source": [
    "import numpy as np\n",
    "from sklearn.preprocessing import StandardScaler\n",
    "from sklearn.preprocessing import Normalizer"
   ]
  },
  {
   "cell_type": "code",
   "execution_count": 74,
   "id": "83cb2f49",
   "metadata": {},
   "outputs": [],
   "source": [
    "# Dataset creation\n",
    "x = np.random.random ((10,5))"
   ]
  },
  {
   "cell_type": "code",
   "execution_count": 75,
   "id": "af4b90c8",
   "metadata": {},
   "outputs": [
    {
     "data": {
      "text/plain": [
       "array([[0.50704599, 0.56022241, 0.03111433, 0.59524263, 0.36715547],\n",
       "       [0.30239754, 0.93597829, 0.39993692, 0.76994818, 0.6939    ],\n",
       "       [0.38797658, 0.57033415, 0.57420082, 0.90918653, 0.37525767],\n",
       "       [0.16941962, 0.36817285, 0.63246046, 0.40178288, 0.78611899],\n",
       "       [0.7998475 , 0.08769962, 0.53611038, 0.34805335, 0.31210288],\n",
       "       [0.94546173, 0.0581985 , 0.14672717, 0.06166369, 0.57051191],\n",
       "       [0.27631613, 0.47139378, 0.77596512, 0.44595194, 0.92023212],\n",
       "       [0.59230412, 0.81954315, 0.82144724, 0.13499927, 0.01114341],\n",
       "       [0.33078404, 0.5990514 , 0.38095208, 0.23432959, 0.77090056],\n",
       "       [0.51857084, 0.09816903, 0.5532824 , 0.75690877, 0.688103  ]])"
      ]
     },
     "execution_count": 75,
     "metadata": {},
     "output_type": "execute_result"
    }
   ],
   "source": [
    "x"
   ]
  },
  {
   "cell_type": "code",
   "execution_count": 76,
   "id": "8f16bf6f",
   "metadata": {},
   "outputs": [],
   "source": [
    "y = np.array(['m','m','f','f','m','f','m','m','f','f'])"
   ]
  },
  {
   "cell_type": "code",
   "execution_count": 77,
   "id": "34163556",
   "metadata": {},
   "outputs": [
    {
     "data": {
      "text/plain": [
       "array([[0.        , 0.        , 0.        , 0.        , 0.        ],\n",
       "       [0.        , 0.93597829, 0.        , 0.76994818, 0.        ],\n",
       "       [0.        , 0.        , 0.        , 0.90918653, 0.        ],\n",
       "       [0.        , 0.        , 0.        , 0.        , 0.78611899],\n",
       "       [0.7998475 , 0.        , 0.        , 0.        , 0.        ],\n",
       "       [0.94546173, 0.        , 0.        , 0.        , 0.        ],\n",
       "       [0.        , 0.        , 0.77596512, 0.        , 0.92023212],\n",
       "       [0.        , 0.81954315, 0.82144724, 0.        , 0.        ],\n",
       "       [0.        , 0.        , 0.        , 0.        , 0.77090056],\n",
       "       [0.        , 0.        , 0.        , 0.75690877, 0.        ]])"
      ]
     },
     "execution_count": 77,
     "metadata": {},
     "output_type": "execute_result"
    }
   ],
   "source": [
    "x [x<0.7] = 0\n",
    "x"
   ]
  },
  {
   "cell_type": "code",
   "execution_count": 78,
   "id": "ed7991fa",
   "metadata": {},
   "outputs": [
    {
     "name": "stdout",
     "output_type": "stream",
     "text": [
      "x Training data shape: (7, 5)\n",
      "x Training data shape: (3, 5)\n",
      "y Training data shape: (7,)\n",
      "y Training data shape: (3,)\n"
     ]
    }
   ],
   "source": [
    "#data split\n",
    "x_train, x_test,y_train,y_test = train_test_split(x,y,test_size=0.3, random_state=0)\n",
    "print(\"x Training data shape:\", x_train.shape)\n",
    "print(\"x Training data shape:\", x_test.shape)\n",
    "print(\"y Training data shape:\", y_train.shape)\n",
    "print(\"y Training data shape:\", y_test.shape)"
   ]
  },
  {
   "cell_type": "code",
   "execution_count": 79,
   "id": "281044ba",
   "metadata": {},
   "outputs": [],
   "source": [
    "#Data preprocessing\n",
    "#1. Standardization\n",
    "# here we want to impport a lib so add it above for simplicity \n",
    "# from sklearn.preprocessing import StandardScaler"
   ]
  },
  {
   "cell_type": "code",
   "execution_count": 80,
   "id": "0d2e3a0b",
   "metadata": {},
   "outputs": [],
   "source": [
    "b = np.array([(1.5,2,3),(4,5,6)], dtype=float)"
   ]
  },
  {
   "cell_type": "code",
   "execution_count": 81,
   "id": "02747012",
   "metadata": {},
   "outputs": [
    {
     "name": "stdout",
     "output_type": "stream",
     "text": [
      "[[1.5 2.  3. ]\n",
      " [4.  5.  6. ]]\n",
      "3.5833333333333335\n",
      "1.5920810978785667\n"
     ]
    }
   ],
   "source": [
    "print(b)\n",
    "print(b.mean())\n",
    "print(b.std())"
   ]
  },
  {
   "cell_type": "code",
   "execution_count": 82,
   "id": "bac2d2c4",
   "metadata": {},
   "outputs": [
    {
     "name": "stdout",
     "output_type": "stream",
     "text": [
      "[[-1. -1. -1.]\n",
      " [ 1.  1.  1.]]\n"
     ]
    }
   ],
   "source": [
    "scaler = StandardScaler()\n",
    "b_std = scaler.fit_transform(b)\n",
    "print (b_std)"
   ]
  },
  {
   "cell_type": "code",
   "execution_count": 83,
   "id": "1f37888e",
   "metadata": {},
   "outputs": [
    {
     "name": "stdout",
     "output_type": "stream",
     "text": [
      "0.0\n",
      "1.0\n"
     ]
    }
   ],
   "source": [
    "print(b_std.mean())\n",
    "print(b_std.std())"
   ]
  },
  {
   "cell_type": "code",
   "execution_count": 84,
   "id": "4a822307",
   "metadata": {},
   "outputs": [
    {
     "name": "stdout",
     "output_type": "stream",
     "text": [
      "[[-0.40824829 -0.63051695 -0.63209694  1.56215491 -0.62973829]\n",
      " [-0.40824829  1.72265924 -0.63209694  1.59996132 -0.62973829]\n",
      " [-0.40824829 -0.63051695  1.5172518  -0.63242325  1.7475789 ]\n",
      " [-0.40824829  1.42992553  1.64323288 -0.63242325 -0.62973829]\n",
      " [-0.40824829 -0.63051695 -0.63209694 -0.63242325  1.40111256]\n",
      " [-0.40824829 -0.63051695 -0.63209694 -0.63242325 -0.62973829]\n",
      " [ 2.44948974 -0.63051695 -0.63209694 -0.63242325 -0.62973829]]\n",
      "[[-0.40824829 -0.63051695 -0.63209694  2.00366841 -0.62973829]\n",
      " [-0.40824829 -0.63051695 -0.63209694 -0.63242325  1.36179744]\n",
      " [ 2.0093584  -0.63051695 -0.63209694 -0.63242325 -0.62973829]]\n",
      "-1.9032394707859827e-17\n"
     ]
    }
   ],
   "source": [
    "std_X = scaler.fit_transform(x_train)\n",
    "std_xtest = scaler.transform(x_test)\n",
    "print(std_X)\n",
    "print(std_xtest)\n",
    "print(std_X.mean())"
   ]
  },
  {
   "cell_type": "code",
   "execution_count": 85,
   "id": "958f388d",
   "metadata": {},
   "outputs": [],
   "source": [
    "#2. Normalization\n",
    "#from sklearn.preprocessing import Normalizer"
   ]
  },
  {
   "cell_type": "code",
   "execution_count": 86,
   "id": "6ba027da",
   "metadata": {},
   "outputs": [],
   "source": [
    "norm = Normalizer()\n",
    "norm_X = norm.fit_transform(x_train)\n",
    "norm_xtest = norm.transform(x_test)"
   ]
  },
  {
   "cell_type": "code",
   "execution_count": 87,
   "id": "88c593ef",
   "metadata": {},
   "outputs": [
    {
     "name": "stdout",
     "output_type": "stream",
     "text": [
      "['m' 'm' 'f' 'f' 'm' 'f' 'm' 'm' 'f' 'f']\n",
      "[1 1 0 0 1 0 1 1 0 0]\n"
     ]
    }
   ],
   "source": [
    "# Labelencoder or onehot encoder\n",
    "from sklearn.preprocessing import LabelEncoder\n",
    "lbn = LabelEncoder()\n",
    "print(y)\n",
    "y_enc = lbn.fit_transform(y)\n",
    "print(y_enc)\n"
   ]
  },
  {
   "cell_type": "code",
   "execution_count": 88,
   "id": "a5f4589c",
   "metadata": {},
   "outputs": [],
   "source": [
    "# Algorithms\n",
    "#Linear regression\n",
    "\n",
    "from sklearn.linear_model import LinearRegression\n",
    "from sklearn.neural_network import MLPClassifier, MLPRegressor\n",
    "from sklearn.svm import SVC, SVR\n",
    "from sklearn.naive_bayes import GaussianNB\n",
    "from sklearn.neighbors import *"
   ]
  },
  {
   "cell_type": "code",
   "execution_count": 89,
   "id": "091b692d",
   "metadata": {},
   "outputs": [],
   "source": [
    "from sklearn.tree import DecisionTreeClassifier, DecisionTreeRegressor"
   ]
  },
  {
   "cell_type": "code",
   "execution_count": 90,
   "id": "afb9b962",
   "metadata": {},
   "outputs": [],
   "source": [
    "#2. Unsupervised\n",
    "from sklearn.cluster import KMeans\n",
    "from sklearn.decomposition import PCA\n",
    "#---------------"
   ]
  },
  {
   "cell_type": "code",
   "execution_count": 91,
   "id": "5aba52c9",
   "metadata": {},
   "outputs": [
    {
     "name": "stderr",
     "output_type": "stream",
     "text": [
      "c:\\users\\abhis\\appdata\\local\\programs\\python\\python39\\lib\\site-packages\\sklearn\\neural_network\\_multilayer_perceptron.py:692: ConvergenceWarning: Stochastic Optimizer: Maximum iterations (200) reached and the optimization hasn't converged yet.\n",
      "  warnings.warn(\n"
     ]
    },
    {
     "data": {
      "text/plain": [
       "MLPClassifier()"
      ]
     },
     "execution_count": 91,
     "metadata": {},
     "output_type": "execute_result"
    }
   ],
   "source": [
    "# Model Fitting\n",
    "mlp = MLPClassifier()\n",
    "mlp.fit(std_X,y_train)"
   ]
  },
  {
   "cell_type": "code",
   "execution_count": 92,
   "id": "1ca9b733",
   "metadata": {},
   "outputs": [],
   "source": [
    "#prediction\n",
    "y_pred = mlp.predict(std_xtest)"
   ]
  },
  {
   "cell_type": "code",
   "execution_count": null,
   "id": "3da9d3fa",
   "metadata": {},
   "outputs": [],
   "source": []
  }
 ],
 "metadata": {
  "kernelspec": {
   "display_name": "Python 3",
   "language": "python",
   "name": "python3"
  },
  "language_info": {
   "codemirror_mode": {
    "name": "ipython",
    "version": 3
   },
   "file_extension": ".py",
   "mimetype": "text/x-python",
   "name": "python",
   "nbconvert_exporter": "python",
   "pygments_lexer": "ipython3",
   "version": "3.9.5"
  }
 },
 "nbformat": 4,
 "nbformat_minor": 5
}
