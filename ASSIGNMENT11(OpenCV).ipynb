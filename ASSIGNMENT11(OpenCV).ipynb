{
 "cells": [
  {
   "cell_type": "code",
   "execution_count": 1,
   "id": "79bfb3ce",
   "metadata": {},
   "outputs": [],
   "source": [
    "import cv2 as cv"
   ]
  },
  {
   "cell_type": "code",
   "execution_count": 2,
   "id": "69cd47d9",
   "metadata": {},
   "outputs": [
    {
     "name": "stdout",
     "output_type": "stream",
     "text": [
      "4.5.3\n"
     ]
    }
   ],
   "source": [
    "print(cv.__version__)"
   ]
  },
  {
   "cell_type": "code",
   "execution_count": 3,
   "id": "3ab1a3bc",
   "metadata": {},
   "outputs": [],
   "source": [
    "import numpy as np"
   ]
  },
  {
   "cell_type": "code",
   "execution_count": 4,
   "id": "c909a165",
   "metadata": {},
   "outputs": [],
   "source": [
    "image = cv.imread(\"car.jpg\")"
   ]
  },
  {
   "cell_type": "code",
   "execution_count": 5,
   "id": "1ecbebc7",
   "metadata": {},
   "outputs": [
    {
     "data": {
      "text/plain": [
       "-1"
      ]
     },
     "execution_count": 5,
     "metadata": {},
     "output_type": "execute_result"
    }
   ],
   "source": [
    "cv.imshow(\"Image\", image)\n",
    "cv.waitKey(0)"
   ]
  },
  {
   "cell_type": "code",
   "execution_count": 6,
   "id": "022f4c11",
   "metadata": {},
   "outputs": [
    {
     "data": {
      "text/plain": [
       "(320, 480, 3)"
      ]
     },
     "execution_count": 6,
     "metadata": {},
     "output_type": "execute_result"
    }
   ],
   "source": [
    "image.shape"
   ]
  },
  {
   "cell_type": "code",
   "execution_count": 7,
   "id": "ee04f500",
   "metadata": {},
   "outputs": [
    {
     "data": {
      "text/plain": [
       "-1"
      ]
     },
     "execution_count": 7,
     "metadata": {},
     "output_type": "execute_result"
    }
   ],
   "source": [
    "corner = image[0:100, 0:100]\n",
    "cv.imshow(\"Corner\", corner)\n",
    "cv.waitKey(0)"
   ]
  },
  {
   "cell_type": "code",
   "execution_count": 8,
   "id": "30b39723",
   "metadata": {},
   "outputs": [
    {
     "data": {
      "text/plain": [
       "-1"
      ]
     },
     "execution_count": 8,
     "metadata": {},
     "output_type": "execute_result"
    }
   ],
   "source": [
    "canvas = np.zeros((300, 300, 3), dtype = \"uint8\")\n",
    "#RGB(255,255,255)\n",
    "green = (0, 255, 0)\n",
    "cv.line(canvas, (0, 0), (300, 300), green,4)\n",
    "cv.imshow(\"Canvas\", canvas)\n",
    "cv.waitKey(0)"
   ]
  },
  {
   "cell_type": "code",
   "execution_count": 9,
   "id": "5dade8c9",
   "metadata": {},
   "outputs": [
    {
     "data": {
      "text/plain": [
       "-1"
      ]
     },
     "execution_count": 9,
     "metadata": {},
     "output_type": "execute_result"
    }
   ],
   "source": [
    "red = (0, 0, 255)\n",
    "cv.line(canvas, (300, 0), (0, 300), red, 3)\n",
    "cv.imshow(\"Canvas\", canvas)\n",
    "cv.waitKey(0)"
   ]
  },
  {
   "cell_type": "code",
   "execution_count": 10,
   "id": "566a4bf5",
   "metadata": {},
   "outputs": [
    {
     "name": "stdout",
     "output_type": "stream",
     "text": [
      "320\n",
      "480\n"
     ]
    },
    {
     "data": {
      "text/plain": [
       "-1"
      ]
     },
     "execution_count": 10,
     "metadata": {},
     "output_type": "execute_result"
    }
   ],
   "source": [
    "M = np.float32([[1, 0, 25], [0, 1, 50]])\n",
    "print(image.shape[0])\n",
    "print(image.shape[1])\n",
    "shifted = cv.warpAffine(image, M, (image.shape[1], image.shape[0]))\n",
    "cv.imshow(\"Shifted Down and Right\", shifted)\n",
    "cv.waitKey(0)"
   ]
  },
  {
   "cell_type": "code",
   "execution_count": 11,
   "id": "48569aea",
   "metadata": {},
   "outputs": [
    {
     "data": {
      "text/plain": [
       "-1"
      ]
     },
     "execution_count": 11,
     "metadata": {},
     "output_type": "execute_result"
    }
   ],
   "source": [
    "cv.imshow(\"Original\", image)\n",
    "(h, w) = image.shape[:2]\n",
    "#h=image.shape[0]\n",
    "#w=image.shape[1]\n",
    "\n",
    "center = (w // 2, h // 2)\n",
    "M = cv.getRotationMatrix2D(center, 45, 1.0)\n",
    "rotated = cv.warpAffine(image, M, (w, h))\n",
    "cv.imshow(\"Rotated by 45 Degrees\", rotated)\n",
    "cv.waitKey(0)"
   ]
  },
  {
   "cell_type": "code",
   "execution_count": 12,
   "id": "6b6de75a",
   "metadata": {},
   "outputs": [
    {
     "name": "stdout",
     "output_type": "stream",
     "text": [
      "(320, 480, 3)\n",
      "(100, 150, 3)\n"
     ]
    },
    {
     "data": {
      "text/plain": [
       "-1"
      ]
     },
     "execution_count": 12,
     "metadata": {},
     "output_type": "execute_result"
    }
   ],
   "source": [
    "\n",
    "cv.imshow(\"Original\", image)\n",
    "print(image.shape)\n",
    "r = 150.0 / image.shape[1]\n",
    "dim = (150, int(image.shape[0] * r))\n",
    "resized = cv.resize(image, dim, interpolation = cv.INTER_AREA)\n",
    "print(resized.shape)\n",
    "cv.imshow(\"Resized (Width)\", resized)\n",
    "cv.waitKey(0)"
   ]
  },
  {
   "cell_type": "code",
   "execution_count": 13,
   "id": "9bbd9e1e",
   "metadata": {},
   "outputs": [
    {
     "data": {
      "text/plain": [
       "-1"
      ]
     },
     "execution_count": 13,
     "metadata": {},
     "output_type": "execute_result"
    }
   ],
   "source": [
    "\n",
    "cv.imshow(\"Original\", image)\n",
    "flipped = cv.flip(image, 0)\n",
    "cv.imshow(\"Flipped Horizontally\", flipped)\n",
    "cv.waitKey(0)"
   ]
  },
  {
   "cell_type": "code",
   "execution_count": 14,
   "id": "7e342ea4",
   "metadata": {},
   "outputs": [
    {
     "data": {
      "text/plain": [
       "-1"
      ]
     },
     "execution_count": 14,
     "metadata": {},
     "output_type": "execute_result"
    }
   ],
   "source": [
    "#Turn image black and white\n",
    "i_gray = cv.cvtColor(image, cv.COLOR_BGR2GRAY)\n",
    "cv.imshow(\"GrayImage\", i_gray)\n",
    "cv.waitKey(0)"
   ]
  },
  {
   "cell_type": "code",
   "execution_count": 15,
   "id": "7f8b27b7",
   "metadata": {},
   "outputs": [
    {
     "data": {
      "text/plain": [
       "-1"
      ]
     },
     "execution_count": 15,
     "metadata": {},
     "output_type": "execute_result"
    }
   ],
   "source": [
    "i_rgb = cv.cvtColor(image, cv.COLOR_BGR2RGB)\n",
    "cv.imshow(\"RGB\", i_rgb)\n",
    "cv.waitKey(0)"
   ]
  },
  {
   "cell_type": "code",
   "execution_count": 16,
   "id": "92046d95",
   "metadata": {},
   "outputs": [
    {
     "data": {
      "text/plain": [
       "-1"
      ]
     },
     "execution_count": 16,
     "metadata": {},
     "output_type": "execute_result"
    }
   ],
   "source": [
    "i_color = cv.cvtColor(image, cv.COLOR_BGR2HSV)\n",
    "cv.imshow(\"HSV\", i_color)\n",
    "cv.waitKey(0)"
   ]
  },
  {
   "cell_type": "code",
   "execution_count": 17,
   "id": "09a04d57",
   "metadata": {},
   "outputs": [
    {
     "data": {
      "text/plain": [
       "-1"
      ]
     },
     "execution_count": 17,
     "metadata": {},
     "output_type": "execute_result"
    }
   ],
   "source": [
    "#Blur image\n",
    "blur = cv.GaussianBlur(image,(11,11),0)\n",
    "cv.imshow(\"Blur\", blur)\n",
    "cv.waitKey(0)"
   ]
  },
  {
   "cell_type": "code",
   "execution_count": 18,
   "id": "83914b45",
   "metadata": {},
   "outputs": [
    {
     "data": {
      "text/plain": [
       "-1"
      ]
     },
     "execution_count": 18,
     "metadata": {},
     "output_type": "execute_result"
    }
   ],
   "source": [
    "#Cartoonify\n",
    "gray = cv.cvtColor(image, cv.COLOR_BGR2GRAY)\n",
    "gray = cv.GaussianBlur(gray,(5,5),-1)\n",
    "edges = cv.adaptiveThreshold(gray, 255, cv.ADAPTIVE_THRESH_MEAN_C, cv.THRESH_BINARY,9,10)\n",
    "color = cv.bilateralFilter(image, 20, 245, 245)\n",
    "cartoon = cv.bitwise_and(color, color, mask=edges)\n",
    "cv.imshow(\"cartoon\",cartoon)\n",
    "cv.waitKey(0)"
   ]
  },
  {
   "cell_type": "code",
   "execution_count": 19,
   "id": "81c0699a",
   "metadata": {},
   "outputs": [
    {
     "data": {
      "text/plain": [
       "-1"
      ]
     },
     "execution_count": 19,
     "metadata": {},
     "output_type": "execute_result"
    }
   ],
   "source": [
    "i_lab = cv.cvtColor(image, cv.COLOR_BGR2LAB)\n",
    "cv.imshow(\"GrayImage\", i_lab)\n",
    "cv.waitKey(0)"
   ]
  },
  {
   "cell_type": "code",
   "execution_count": 20,
   "id": "655cd9fb",
   "metadata": {},
   "outputs": [
    {
     "data": {
      "text/plain": [
       "-1"
      ]
     },
     "execution_count": 20,
     "metadata": {},
     "output_type": "execute_result"
    }
   ],
   "source": [
    "i_luv = cv.cvtColor(image, cv.COLOR_BGR2LUV)\n",
    "cv.imshow(\"GrayImage\", i_luv)\n",
    "cv.waitKey(0)"
   ]
  },
  {
   "cell_type": "code",
   "execution_count": 21,
   "id": "40e25bac",
   "metadata": {},
   "outputs": [
    {
     "data": {
      "text/plain": [
       "-1"
      ]
     },
     "execution_count": 21,
     "metadata": {},
     "output_type": "execute_result"
    }
   ],
   "source": [
    "i_ycr = cv.cvtColor(image, cv.COLOR_BGR2YCrCb)\n",
    "cv.imshow(\"GrayImage\", i_ycr)\n",
    "cv.waitKey(0)"
   ]
  },
  {
   "cell_type": "code",
   "execution_count": 22,
   "id": "d278296d",
   "metadata": {},
   "outputs": [],
   "source": [
    "b, g, r = cv.split(image)"
   ]
  },
  {
   "cell_type": "code",
   "execution_count": 26,
   "id": "7a3c5e9b",
   "metadata": {},
   "outputs": [],
   "source": [
    "img = cv.merge((b,g,r))"
   ]
  },
  {
   "cell_type": "code",
   "execution_count": 28,
   "id": "41364d96",
   "metadata": {},
   "outputs": [
    {
     "data": {
      "text/plain": [
       "-1"
      ]
     },
     "execution_count": 28,
     "metadata": {},
     "output_type": "execute_result"
    }
   ],
   "source": [
    "cv.imshow(\"merged\", img)\n",
    "cv.waitKey(0)"
   ]
  },
  {
   "cell_type": "code",
   "execution_count": 29,
   "id": "8a9e5980",
   "metadata": {},
   "outputs": [
    {
     "data": {
      "text/plain": [
       "-1"
      ]
     },
     "execution_count": 29,
     "metadata": {},
     "output_type": "execute_result"
    }
   ],
   "source": [
    "cv.imshow(\"splitted_b\", b)\n",
    "cv.imshow(\"splitted_g\", g)\n",
    "cv.imshow(\"splitted_r\", r)\n",
    "cv.waitKey(0)"
   ]
  },
  {
   "cell_type": "code",
   "execution_count": null,
   "id": "8de2a9ec",
   "metadata": {},
   "outputs": [],
   "source": []
  }
 ],
 "metadata": {
  "kernelspec": {
   "display_name": "Python 3",
   "language": "python",
   "name": "python3"
  },
  "language_info": {
   "codemirror_mode": {
    "name": "ipython",
    "version": 3
   },
   "file_extension": ".py",
   "mimetype": "text/x-python",
   "name": "python",
   "nbconvert_exporter": "python",
   "pygments_lexer": "ipython3",
   "version": "3.9.5"
  }
 },
 "nbformat": 4,
 "nbformat_minor": 5
}
